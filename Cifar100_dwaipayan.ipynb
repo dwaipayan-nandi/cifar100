{
 "cells": [
  {
   "cell_type": "code",
   "execution_count": 1,
   "metadata": {
    "executionInfo": {
     "elapsed": 14686,
     "status": "ok",
     "timestamp": 1700915176430,
     "user": {
      "displayName": "Utsav Das",
      "userId": "03850994718273475390"
     },
     "user_tz": -330
    },
    "id": "_Jno9uZx8ZtA"
   },
   "outputs": [],
   "source": [
    "import pickle\n",
    "import pandas as pd\n",
    "import numpy as np\n",
    "import matplotlib.pyplot as plt\n",
    "from pylab import rcParams\n",
    "import tensorflow as tf\n",
    "import keras\n",
    "get_ipython().run_line_magic('matplotlib', 'inline')\n",
    "from keras.models import Sequential, load_model\n",
    "from keras.layers import Conv2D, MaxPool2D, Dropout, Flatten, Dense\n",
    "from keras.layers import BatchNormalization\n",
    "from keras.preprocessing.image import ImageDataGenerator\n",
    "from keras.callbacks import Callback, EarlyStopping, ModelCheckpoint\n",
    "from sklearn.metrics import confusion_matrix, classification_report\n",
    "from skimage.transform import resize\n",
    "import seaborn as sns\n",
    "import cv2"
   ]
  },
  {
   "cell_type": "code",
   "execution_count": 2,
   "metadata": {
    "executionInfo": {
     "elapsed": 21,
     "status": "ok",
     "timestamp": 1700915176431,
     "user": {
      "displayName": "Utsav Das",
      "userId": "03850994718273475390"
     },
     "user_tz": -330
    },
    "id": "7SauK7HQ73eM"
   },
   "outputs": [],
   "source": [
    "def unpickle(file):\n",
    "    with open(file, 'rb') as fo:\n",
    "        myDict = pickle.load(fo, encoding='latin1')\n",
    "    return myDict"
   ]
  },
  {
   "cell_type": "code",
   "execution_count": 3,
   "metadata": {
    "executionInfo": {
     "elapsed": 7930,
     "status": "ok",
     "timestamp": 1700915184340,
     "user": {
      "displayName": "Utsav Das",
      "userId": "03850994718273475390"
     },
     "user_tz": -330
    },
    "id": "OXhA-0ST8kIc"
   },
   "outputs": [],
   "source": [
    "trainData = unpickle(r'C:\\Users\\Dwaipayan Nandi\\OneDrive\\Desktop\\projects\\CIPHAR-100\\Dataset\\train')\n",
    "testData = unpickle(r'C:\\Users\\Dwaipayan Nandi\\OneDrive\\Desktop\\projects\\CIPHAR-100\\Dataset\\test')\n",
    "metaData = unpickle(r'C:\\Users\\Dwaipayan Nandi\\OneDrive\\Desktop\\projects\\CIPHAR-100\\Dataset\\meta')"
   ]
  },
  {
   "cell_type": "code",
   "execution_count": 4,
   "metadata": {
    "colab": {
     "base_uri": "https://localhost:8080/"
    },
    "executionInfo": {
     "elapsed": 54,
     "status": "ok",
     "timestamp": 1700915184341,
     "user": {
      "displayName": "Utsav Das",
      "userId": "03850994718273475390"
     },
     "user_tz": -330
    },
    "id": "E51o-YAS9Q-1",
    "outputId": "969b352d-2607-4a2a-cb7c-7fa1cc18cf48"
   },
   "outputs": [
    {
     "name": "stdout",
     "output_type": "stream",
     "text": [
      "50000\n",
      "3072\n"
     ]
    }
   ],
   "source": [
    "print(len(trainData['data']))\n",
    "print(len(trainData['data'][0]))"
   ]
  },
  {
   "cell_type": "code",
   "execution_count": 37,
   "metadata": {},
   "outputs": [],
   "source": [
    "subcat = pd.DataFrame(metaData['fine_label_names']).values.flatten()"
   ]
  },
  {
   "cell_type": "code",
   "execution_count": 38,
   "metadata": {},
   "outputs": [
    {
     "name": "stdout",
     "output_type": "stream",
     "text": [
      "['apple' 'aquarium_fish' 'baby' 'bear' 'beaver' 'bed' 'bee' 'beetle'\n",
      " 'bicycle' 'bottle' 'bowl' 'boy' 'bridge' 'bus' 'butterfly' 'camel' 'can'\n",
      " 'castle' 'caterpillar' 'cattle' 'chair' 'chimpanzee' 'clock' 'cloud'\n",
      " 'cockroach' 'couch' 'crab' 'crocodile' 'cup' 'dinosaur' 'dolphin'\n",
      " 'elephant' 'flatfish' 'forest' 'fox' 'girl' 'hamster' 'house' 'kangaroo'\n",
      " 'keyboard' 'lamp' 'lawn_mower' 'leopard' 'lion' 'lizard' 'lobster' 'man'\n",
      " 'maple_tree' 'motorcycle' 'mountain' 'mouse' 'mushroom' 'oak_tree'\n",
      " 'orange' 'orchid' 'otter' 'palm_tree' 'pear' 'pickup_truck' 'pine_tree'\n",
      " 'plain' 'plate' 'poppy' 'porcupine' 'possum' 'rabbit' 'raccoon' 'ray'\n",
      " 'road' 'rocket' 'rose' 'sea' 'seal' 'shark' 'shrew' 'skunk' 'skyscraper'\n",
      " 'snail' 'snake' 'spider' 'squirrel' 'streetcar' 'sunflower'\n",
      " 'sweet_pepper' 'table' 'tank' 'telephone' 'television' 'tiger' 'tractor'\n",
      " 'train' 'trout' 'tulip' 'turtle' 'wardrobe' 'whale' 'willow_tree' 'wolf'\n",
      " 'woman' 'worm']\n"
     ]
    }
   ],
   "source": [
    "print(subcat)"
   ]
  },
  {
   "cell_type": "code",
   "execution_count": 6,
   "metadata": {
    "colab": {
     "base_uri": "https://localhost:8080/"
    },
    "executionInfo": {
     "elapsed": 23,
     "status": "ok",
     "timestamp": 1700915184342,
     "user": {
      "displayName": "Utsav Das",
      "userId": "03850994718273475390"
     },
     "user_tz": -330
    },
    "id": "vi4F8SgB_6CO",
    "outputId": "95576a90-62cd-4bc4-ca06-269cbb97091e"
   },
   "outputs": [
    {
     "data": {
      "text/plain": [
       "array([[255, 255, 255, ...,  10,  59,  79],\n",
       "       [255, 253, 253, ..., 253, 253, 255],\n",
       "       [250, 248, 247, ..., 194, 207, 228],\n",
       "       ...,\n",
       "       [248, 240, 236, ..., 180, 174, 205],\n",
       "       [156, 151, 151, ..., 114, 107, 126],\n",
       "       [ 31,  30,  31, ...,  72,  69,  67]], dtype=uint8)"
      ]
     },
     "execution_count": 6,
     "metadata": {},
     "output_type": "execute_result"
    }
   ],
   "source": [
    "X_train = trainData['data']\n",
    "X_train"
   ]
  },
  {
   "cell_type": "code",
   "execution_count": 7,
   "metadata": {
    "executionInfo": {
     "elapsed": 23,
     "status": "ok",
     "timestamp": 1700915184343,
     "user": {
      "displayName": "Utsav Das",
      "userId": "03850994718273475390"
     },
     "user_tz": -330
    },
    "id": "UD4QwBtWACAi"
   },
   "outputs": [],
   "source": [
    "X_train = X_train.reshape(len(X_train),3,32,32).transpose(0,2,3,1)"
   ]
  },
  {
   "cell_type": "code",
   "execution_count": 8,
   "metadata": {
    "colab": {
     "base_uri": "https://localhost:8080/"
    },
    "executionInfo": {
     "elapsed": 19,
     "status": "ok",
     "timestamp": 1700915186811,
     "user": {
      "displayName": "Utsav Das",
      "userId": "03850994718273475390"
     },
     "user_tz": -330
    },
    "id": "DfM8OXjBBTUu",
    "outputId": "752315fc-7bd4-44ab-b885-9300ab81d9cb"
   },
   "outputs": [
    {
     "data": {
      "text/plain": [
       "(10000, 32, 32, 3)"
      ]
     },
     "execution_count": 8,
     "metadata": {},
     "output_type": "execute_result"
    }
   ],
   "source": [
    "#transforming the testing dataset\n",
    "X_test = testData['data']\n",
    "X_test = X_test.reshape(len(X_test),3,32,32).transpose(0,2,3,1)\n",
    "X_test.shape"
   ]
  },
  {
   "cell_type": "code",
   "execution_count": 9,
   "metadata": {
    "executionInfo": {
     "elapsed": 17,
     "status": "ok",
     "timestamp": 1700915186812,
     "user": {
      "displayName": "Utsav Das",
      "userId": "03850994718273475390"
     },
     "user_tz": -330
    },
    "id": "eIcIGDf7Bwwk"
   },
   "outputs": [],
   "source": [
    "y_train = trainData['fine_labels']\n",
    "#y_train\n",
    "\n",
    "y_test = testData['fine_labels']\n",
    "#y_test"
   ]
  },
  {
   "cell_type": "code",
   "execution_count": 59,
   "metadata": {},
   "outputs": [
    {
     "data": {
      "text/plain": [
       "array([[0., 0., 0., ..., 0., 0., 0.],\n",
       "       [0., 0., 0., ..., 0., 0., 0.],\n",
       "       [0., 0., 0., ..., 0., 0., 0.],\n",
       "       ...,\n",
       "       [0., 0., 0., ..., 0., 0., 0.],\n",
       "       [0., 0., 0., ..., 0., 0., 0.],\n",
       "       [0., 0., 0., ..., 0., 0., 0.]], dtype=float32)"
      ]
     },
     "execution_count": 59,
     "metadata": {},
     "output_type": "execute_result"
    }
   ],
   "source": [
    "y_test"
   ]
  },
  {
   "cell_type": "code",
   "execution_count": 10,
   "metadata": {
    "executionInfo": {
     "elapsed": 16,
     "status": "ok",
     "timestamp": 1700915186812,
     "user": {
      "displayName": "Utsav Das",
      "userId": "03850994718273475390"
     },
     "user_tz": -330
    },
    "id": "7kahpypjB0K6"
   },
   "outputs": [],
   "source": [
    "num_class = 100\n",
    "\n",
    "y_train = keras.utils.to_categorical(y_train, num_class)\n",
    "#y_train\n",
    "\n",
    "y_test = keras.utils.to_categorical(y_test, num_class)\n",
    "#y_test"
   ]
  },
  {
   "cell_type": "code",
   "execution_count": 11,
   "metadata": {
    "executionInfo": {
     "elapsed": 752,
     "status": "ok",
     "timestamp": 1700915187548,
     "user": {
      "displayName": "Utsav Das",
      "userId": "03850994718273475390"
     },
     "user_tz": -330
    },
    "id": "AaS6z0wJB7sx"
   },
   "outputs": [],
   "source": [
    "X_train = X_train / 255.\n",
    "#X_train\n",
    "\n",
    "X_test = X_test / 255.\n",
    "#X_test"
   ]
  },
  {
   "cell_type": "code",
   "execution_count": 12,
   "metadata": {},
   "outputs": [],
   "source": [
    "# initializing CNN model 3\n",
    "model = Sequential()\n",
    "\n",
    "#Stack 1\n",
    "#convolution\n",
    "model.add(Conv2D(filters=64, kernel_size=3, padding=\"same\", activation=\"relu\", input_shape=X_train.shape[1:]))\n",
    "model.add(Conv2D(filters=64, kernel_size=3, padding=\"same\", activation=\"relu\"))\n",
    "#pooling\n",
    "model.add(MaxPool2D(pool_size=2, strides=2))\n",
    "#dropout\n",
    "model.add(Dropout(0.2))\n",
    "\n",
    "#Stack 2\n",
    "#convolution\n",
    "model.add(Conv2D(filters=128, kernel_size=3, padding=\"same\", activation=\"relu\"))\n",
    "model.add(Conv2D(filters=128, kernel_size=3, padding=\"same\", activation=\"relu\"))\n",
    "#pooling\n",
    "model.add(MaxPool2D(pool_size=2, strides=2))\n",
    "#dropout\n",
    "model.add(Dropout(0.3))\n",
    "\n",
    "#Stack 3\n",
    "#convolution\n",
    "model.add(Conv2D(filters=256, kernel_size=3, padding=\"same\", activation=\"relu\"))\n",
    "model.add(Conv2D(filters=256, kernel_size=3, padding=\"same\", activation=\"relu\"))\n",
    "#pooling\n",
    "model.add(MaxPool2D(pool_size=2, strides=2))\n",
    "#dropout\n",
    "model.add(Dropout(0.3))\n",
    "\n",
    "#Stack 4\n",
    "#convolution\n",
    "model.add(Conv2D(filters=512, kernel_size=3, padding=\"same\", activation=\"relu\"))\n",
    "model.add(Conv2D(filters=512, kernel_size=3, padding=\"same\", activation=\"relu\"))\n",
    "#pooling\n",
    "model.add(MaxPool2D(pool_size=2, strides=2))\n",
    "#dropout\n",
    "model.add(Dropout(0.3))\n",
    "\n",
    "\n",
    "#flattening\n",
    "model.add(Flatten())\n",
    "\n",
    "#full connection\n",
    "model.add(Dense(units=2000, activation=\"relu\"))\n",
    "#dropout\n",
    "model.add(Dropout(0.3))\n",
    "\n",
    "#full connection\n",
    "model.add(Dense(units=1000, activation=\"relu\"))\n",
    "#dropout\n",
    "model.add(Dropout(0.3))\n",
    "\n",
    "#full connection\n",
    "model.add(Dense(units=500, activation=\"relu\"))\n",
    "#dropout\n",
    "model.add(Dropout(0.3))\n",
    "\n",
    "\n",
    "#output layer\n",
    "model.add(Dense(units=num_class, activation=\"softmax\"))"
   ]
  },
  {
   "cell_type": "code",
   "execution_count": 13,
   "metadata": {
    "colab": {
     "base_uri": "https://localhost:8080/"
    },
    "executionInfo": {
     "elapsed": 19,
     "status": "ok",
     "timestamp": 1700915188289,
     "user": {
      "displayName": "Utsav Das",
      "userId": "03850994718273475390"
     },
     "user_tz": -330
    },
    "id": "VFPJ6nT_CD6G",
    "outputId": "6323248b-ccec-42d6-cb6a-0737a1c5fa06"
   },
   "outputs": [
    {
     "name": "stdout",
     "output_type": "stream",
     "text": [
      "Model: \"sequential\"\n",
      "_________________________________________________________________\n",
      " Layer (type)                Output Shape              Param #   \n",
      "=================================================================\n",
      " conv2d (Conv2D)             (None, 32, 32, 64)        1792      \n",
      "                                                                 \n",
      " conv2d_1 (Conv2D)           (None, 32, 32, 64)        36928     \n",
      "                                                                 \n",
      " max_pooling2d (MaxPooling2D  (None, 16, 16, 64)       0         \n",
      " )                                                               \n",
      "                                                                 \n",
      " dropout (Dropout)           (None, 16, 16, 64)        0         \n",
      "                                                                 \n",
      " conv2d_2 (Conv2D)           (None, 16, 16, 128)       73856     \n",
      "                                                                 \n",
      " conv2d_3 (Conv2D)           (None, 16, 16, 128)       147584    \n",
      "                                                                 \n",
      " max_pooling2d_1 (MaxPooling  (None, 8, 8, 128)        0         \n",
      " 2D)                                                             \n",
      "                                                                 \n",
      " dropout_1 (Dropout)         (None, 8, 8, 128)         0         \n",
      "                                                                 \n",
      " conv2d_4 (Conv2D)           (None, 8, 8, 256)         295168    \n",
      "                                                                 \n",
      " conv2d_5 (Conv2D)           (None, 8, 8, 256)         590080    \n",
      "                                                                 \n",
      " max_pooling2d_2 (MaxPooling  (None, 4, 4, 256)        0         \n",
      " 2D)                                                             \n",
      "                                                                 \n",
      " dropout_2 (Dropout)         (None, 4, 4, 256)         0         \n",
      "                                                                 \n",
      " conv2d_6 (Conv2D)           (None, 4, 4, 512)         1180160   \n",
      "                                                                 \n",
      " conv2d_7 (Conv2D)           (None, 4, 4, 512)         2359808   \n",
      "                                                                 \n",
      " max_pooling2d_3 (MaxPooling  (None, 2, 2, 512)        0         \n",
      " 2D)                                                             \n",
      "                                                                 \n",
      " dropout_3 (Dropout)         (None, 2, 2, 512)         0         \n",
      "                                                                 \n",
      " flatten (Flatten)           (None, 2048)              0         \n",
      "                                                                 \n",
      " dense (Dense)               (None, 2000)              4098000   \n",
      "                                                                 \n",
      " dropout_4 (Dropout)         (None, 2000)              0         \n",
      "                                                                 \n",
      " dense_1 (Dense)             (None, 1000)              2001000   \n",
      "                                                                 \n",
      " dropout_5 (Dropout)         (None, 1000)              0         \n",
      "                                                                 \n",
      " dense_2 (Dense)             (None, 500)               500500    \n",
      "                                                                 \n",
      " dropout_6 (Dropout)         (None, 500)               0         \n",
      "                                                                 \n",
      " dense_3 (Dense)             (None, 100)               50100     \n",
      "                                                                 \n",
      "=================================================================\n",
      "Total params: 11,334,976\n",
      "Trainable params: 11,334,976\n",
      "Non-trainable params: 0\n",
      "_________________________________________________________________\n"
     ]
    }
   ],
   "source": [
    "model.summary()"
   ]
  },
  {
   "cell_type": "code",
   "execution_count": 14,
   "metadata": {
    "executionInfo": {
     "elapsed": 14,
     "status": "ok",
     "timestamp": 1700915188289,
     "user": {
      "displayName": "Utsav Das",
      "userId": "03850994718273475390"
     },
     "user_tz": -330
    },
    "id": "vyOzRQsYCGVQ"
   },
   "outputs": [],
   "source": [
    "epochs = 100\n",
    "batch_size = 64"
   ]
  },
  {
   "cell_type": "code",
   "execution_count": 15,
   "metadata": {
    "colab": {
     "base_uri": "https://localhost:8080/"
    },
    "executionInfo": {
     "elapsed": 461,
     "status": "ok",
     "timestamp": 1700915188737,
     "user": {
      "displayName": "Utsav Das",
      "userId": "03850994718273475390"
     },
     "user_tz": -330
    },
    "id": "PnrckGEeCPmY",
    "outputId": "1141f321-e9dc-4450-8c23-bc6e3a51dd75"
   },
   "outputs": [
    {
     "name": "stderr",
     "output_type": "stream",
     "text": [
      "C:\\Anaconda3\\envs\\tensorgpu\\lib\\site-packages\\keras\\optimizers\\optimizer_v2\\adam.py:114: UserWarning: The `lr` argument is deprecated, use `learning_rate` instead.\n",
      "  super().__init__(name, **kwargs)\n"
     ]
    }
   ],
   "source": [
    "optimizer = keras.optimizers.Adam(lr=0.0001)\n",
    "\n",
    "#model compiling\n",
    "model.compile(optimizer=optimizer, loss='categorical_crossentropy', metrics=['accuracy'])"
   ]
  },
  {
   "cell_type": "code",
   "execution_count": 16,
   "metadata": {
    "executionInfo": {
     "elapsed": 6,
     "status": "ok",
     "timestamp": 1700915188737,
     "user": {
      "displayName": "Utsav Das",
      "userId": "03850994718273475390"
     },
     "user_tz": -330
    },
    "id": "R2IYrRq-CR_g"
   },
   "outputs": [],
   "source": [
    "#early stopping to monitor the validation loss and avoid overfitting\n",
    "early_stop = EarlyStopping(monitor='val_loss', mode='min', verbose=1, patience=15)\n",
    "\n",
    "#saving the model checkpoint for the best model\n",
    "model_checkpoint = ModelCheckpoint('best_model.h5', monitor='val_loss', mode='min', save_best_only=True, verbose=1)"
   ]
  },
  {
   "cell_type": "code",
   "execution_count": 17,
   "metadata": {
    "executionInfo": {
     "elapsed": 1644,
     "status": "ok",
     "timestamp": 1700915190376,
     "user": {
      "displayName": "Utsav Das",
      "userId": "03850994718273475390"
     },
     "user_tz": -330
    },
    "id": "ms2JpSieCYIe"
   },
   "outputs": [],
   "source": [
    "#image augmentation to expand the training dataset\n",
    "#validation split to test the model\n",
    "data_gen = ImageDataGenerator(\n",
    "            shear_range=0.2,\n",
    "            zoom_range=0.2,\n",
    "            horizontal_flip=True,\n",
    "            featurewise_center=True,\n",
    "            width_shift_range=0.1,\n",
    "            validation_split=0.2)\n",
    "\n",
    "data_gen.fit(X_train, seed=123)\n",
    "\n",
    "train_data_gen = data_gen.flow(X_train, y_train,\n",
    "                               batch_size=batch_size,\n",
    "                               subset=\"training\", seed=123)\n",
    "\n",
    "valid_data_gen = data_gen.flow(X_train, y_train,\n",
    "                               batch_size=batch_size,\n",
    "                               subset=\"validation\", seed=123)"
   ]
  },
  {
   "cell_type": "code",
   "execution_count": 18,
   "metadata": {
    "colab": {
     "base_uri": "https://localhost:8080/"
    },
    "id": "CKZz4qV2Ccoy",
    "outputId": "48086a63-e43a-4358-c2b8-cba15ea3f6e1"
   },
   "outputs": [
    {
     "name": "stdout",
     "output_type": "stream",
     "text": [
      "Epoch 1/100\n",
      "625/625 [==============================] - ETA: 0s - loss: 4.4700 - accuracy: 0.0170\n",
      "Epoch 1: val_loss improved from inf to 4.34200, saving model to best_model.h5\n",
      "625/625 [==============================] - 19s 24ms/step - loss: 4.4700 - accuracy: 0.0170 - val_loss: 4.3420 - val_accuracy: 0.0235\n",
      "Epoch 2/100\n",
      "623/625 [============================>.] - ETA: 0s - loss: 4.2588 - accuracy: 0.0323\n",
      "Epoch 2: val_loss improved from 4.34200 to 4.06521, saving model to best_model.h5\n",
      "625/625 [==============================] - 15s 24ms/step - loss: 4.2583 - accuracy: 0.0322 - val_loss: 4.0652 - val_accuracy: 0.0493\n",
      "Epoch 3/100\n",
      "624/625 [============================>.] - ETA: 0s - loss: 4.0071 - accuracy: 0.0625\n",
      "Epoch 3: val_loss improved from 4.06521 to 3.84323, saving model to best_model.h5\n",
      "625/625 [==============================] - 15s 23ms/step - loss: 4.0070 - accuracy: 0.0625 - val_loss: 3.8432 - val_accuracy: 0.0856\n",
      "Epoch 4/100\n",
      "625/625 [==============================] - ETA: 0s - loss: 3.8375 - accuracy: 0.0879\n",
      "Epoch 4: val_loss improved from 3.84323 to 3.71498, saving model to best_model.h5\n",
      "625/625 [==============================] - 15s 24ms/step - loss: 3.8375 - accuracy: 0.0879 - val_loss: 3.7150 - val_accuracy: 0.1089\n",
      "Epoch 5/100\n",
      "623/625 [============================>.] - ETA: 0s - loss: 3.6792 - accuracy: 0.1170\n",
      "Epoch 5: val_loss improved from 3.71498 to 3.51711, saving model to best_model.h5\n",
      "625/625 [==============================] - 15s 24ms/step - loss: 3.6792 - accuracy: 0.1169 - val_loss: 3.5171 - val_accuracy: 0.1435\n",
      "Epoch 6/100\n",
      "623/625 [============================>.] - ETA: 0s - loss: 3.5378 - accuracy: 0.1441\n",
      "Epoch 6: val_loss improved from 3.51711 to 3.41285, saving model to best_model.h5\n",
      "625/625 [==============================] - 15s 23ms/step - loss: 3.5372 - accuracy: 0.1444 - val_loss: 3.4128 - val_accuracy: 0.1612\n",
      "Epoch 7/100\n",
      "625/625 [==============================] - ETA: 0s - loss: 3.3882 - accuracy: 0.1680\n",
      "Epoch 7: val_loss improved from 3.41285 to 3.23034, saving model to best_model.h5\n",
      "625/625 [==============================] - 15s 24ms/step - loss: 3.3882 - accuracy: 0.1680 - val_loss: 3.2303 - val_accuracy: 0.2060\n",
      "Epoch 8/100\n",
      "623/625 [============================>.] - ETA: 0s - loss: 3.2528 - accuracy: 0.1934\n",
      "Epoch 8: val_loss improved from 3.23034 to 3.11424, saving model to best_model.h5\n",
      "625/625 [==============================] - 15s 24ms/step - loss: 3.2526 - accuracy: 0.1937 - val_loss: 3.1142 - val_accuracy: 0.2196\n",
      "Epoch 9/100\n",
      "624/625 [============================>.] - ETA: 0s - loss: 3.1328 - accuracy: 0.2176\n",
      "Epoch 9: val_loss improved from 3.11424 to 2.98146, saving model to best_model.h5\n",
      "625/625 [==============================] - 15s 23ms/step - loss: 3.1324 - accuracy: 0.2177 - val_loss: 2.9815 - val_accuracy: 0.2517\n",
      "Epoch 10/100\n",
      "623/625 [============================>.] - ETA: 0s - loss: 3.0297 - accuracy: 0.2353\n",
      "Epoch 10: val_loss improved from 2.98146 to 2.91895, saving model to best_model.h5\n",
      "625/625 [==============================] - 15s 24ms/step - loss: 3.0292 - accuracy: 0.2355 - val_loss: 2.9190 - val_accuracy: 0.2644\n",
      "Epoch 11/100\n",
      "623/625 [============================>.] - ETA: 0s - loss: 2.9284 - accuracy: 0.2558\n",
      "Epoch 11: val_loss improved from 2.91895 to 2.77442, saving model to best_model.h5\n",
      "625/625 [==============================] - 15s 24ms/step - loss: 2.9282 - accuracy: 0.2558 - val_loss: 2.7744 - val_accuracy: 0.2904\n",
      "Epoch 12/100\n",
      "625/625 [==============================] - ETA: 0s - loss: 2.8373 - accuracy: 0.2747\n",
      "Epoch 12: val_loss improved from 2.77442 to 2.75030, saving model to best_model.h5\n",
      "625/625 [==============================] - 15s 23ms/step - loss: 2.8373 - accuracy: 0.2747 - val_loss: 2.7503 - val_accuracy: 0.2996\n",
      "Epoch 13/100\n",
      "625/625 [==============================] - ETA: 0s - loss: 2.7577 - accuracy: 0.2909\n",
      "Epoch 13: val_loss improved from 2.75030 to 2.61892, saving model to best_model.h5\n",
      "625/625 [==============================] - 15s 24ms/step - loss: 2.7577 - accuracy: 0.2909 - val_loss: 2.6189 - val_accuracy: 0.3219\n",
      "Epoch 14/100\n",
      "624/625 [============================>.] - ETA: 0s - loss: 2.6653 - accuracy: 0.3111\n",
      "Epoch 14: val_loss improved from 2.61892 to 2.59869, saving model to best_model.h5\n",
      "625/625 [==============================] - 15s 24ms/step - loss: 2.6658 - accuracy: 0.3110 - val_loss: 2.5987 - val_accuracy: 0.3323\n",
      "Epoch 15/100\n",
      "624/625 [============================>.] - ETA: 0s - loss: 2.5985 - accuracy: 0.3284\n",
      "Epoch 15: val_loss did not improve from 2.59869\n",
      "625/625 [==============================] - 14s 23ms/step - loss: 2.5989 - accuracy: 0.3284 - val_loss: 2.6088 - val_accuracy: 0.3360\n",
      "Epoch 16/100\n",
      "624/625 [============================>.] - ETA: 0s - loss: 2.5337 - accuracy: 0.3425\n",
      "Epoch 16: val_loss improved from 2.59869 to 2.43855, saving model to best_model.h5\n",
      "625/625 [==============================] - 15s 24ms/step - loss: 2.5336 - accuracy: 0.3426 - val_loss: 2.4385 - val_accuracy: 0.3623\n",
      "Epoch 17/100\n",
      "625/625 [==============================] - ETA: 0s - loss: 2.4595 - accuracy: 0.3575\n",
      "Epoch 17: val_loss improved from 2.43855 to 2.35564, saving model to best_model.h5\n",
      "625/625 [==============================] - 15s 24ms/step - loss: 2.4595 - accuracy: 0.3575 - val_loss: 2.3556 - val_accuracy: 0.3797\n",
      "Epoch 18/100\n",
      "624/625 [============================>.] - ETA: 0s - loss: 2.3873 - accuracy: 0.3695\n",
      "Epoch 18: val_loss improved from 2.35564 to 2.31838, saving model to best_model.h5\n",
      "625/625 [==============================] - 15s 23ms/step - loss: 2.3875 - accuracy: 0.3695 - val_loss: 2.3184 - val_accuracy: 0.3879\n",
      "Epoch 19/100\n",
      "624/625 [============================>.] - ETA: 0s - loss: 2.3285 - accuracy: 0.3828\n",
      "Epoch 19: val_loss improved from 2.31838 to 2.31698, saving model to best_model.h5\n",
      "625/625 [==============================] - 16s 25ms/step - loss: 2.3290 - accuracy: 0.3827 - val_loss: 2.3170 - val_accuracy: 0.3891\n",
      "Epoch 20/100\n",
      "625/625 [==============================] - ETA: 0s - loss: 2.2783 - accuracy: 0.3970\n",
      "Epoch 20: val_loss improved from 2.31698 to 2.26057, saving model to best_model.h5\n",
      "625/625 [==============================] - 15s 25ms/step - loss: 2.2783 - accuracy: 0.3970 - val_loss: 2.2606 - val_accuracy: 0.4010\n",
      "Epoch 21/100\n",
      "623/625 [============================>.] - ETA: 0s - loss: 2.2183 - accuracy: 0.4099\n",
      "Epoch 21: val_loss improved from 2.26057 to 2.17266, saving model to best_model.h5\n",
      "625/625 [==============================] - 15s 24ms/step - loss: 2.2184 - accuracy: 0.4099 - val_loss: 2.1727 - val_accuracy: 0.4171\n",
      "Epoch 22/100\n",
      "623/625 [============================>.] - ETA: 0s - loss: 2.1660 - accuracy: 0.4195\n",
      "Epoch 22: val_loss did not improve from 2.17266\n",
      "625/625 [==============================] - 15s 24ms/step - loss: 2.1665 - accuracy: 0.4193 - val_loss: 2.2043 - val_accuracy: 0.4109\n",
      "Epoch 23/100\n",
      "625/625 [==============================] - ETA: 0s - loss: 2.1242 - accuracy: 0.4262\n",
      "Epoch 23: val_loss improved from 2.17266 to 2.15226, saving model to best_model.h5\n",
      "625/625 [==============================] - 15s 24ms/step - loss: 2.1242 - accuracy: 0.4262 - val_loss: 2.1523 - val_accuracy: 0.4243\n",
      "Epoch 24/100\n",
      "623/625 [============================>.] - ETA: 0s - loss: 2.0701 - accuracy: 0.4420\n",
      "Epoch 24: val_loss improved from 2.15226 to 2.06563, saving model to best_model.h5\n",
      "625/625 [==============================] - 15s 23ms/step - loss: 2.0703 - accuracy: 0.4419 - val_loss: 2.0656 - val_accuracy: 0.4444\n",
      "Epoch 25/100\n",
      "625/625 [==============================] - ETA: 0s - loss: 2.0299 - accuracy: 0.4502\n",
      "Epoch 25: val_loss did not improve from 2.06563\n",
      "625/625 [==============================] - 15s 24ms/step - loss: 2.0299 - accuracy: 0.4502 - val_loss: 2.0718 - val_accuracy: 0.4443\n",
      "Epoch 26/100\n",
      "625/625 [==============================] - ETA: 0s - loss: 1.9825 - accuracy: 0.4618\n",
      "Epoch 26: val_loss did not improve from 2.06563\n",
      "625/625 [==============================] - 15s 24ms/step - loss: 1.9825 - accuracy: 0.4618 - val_loss: 2.1098 - val_accuracy: 0.4354\n",
      "Epoch 27/100\n",
      "625/625 [==============================] - ETA: 0s - loss: 1.9517 - accuracy: 0.4683\n",
      "Epoch 27: val_loss improved from 2.06563 to 1.98033, saving model to best_model.h5\n",
      "625/625 [==============================] - 15s 24ms/step - loss: 1.9517 - accuracy: 0.4683 - val_loss: 1.9803 - val_accuracy: 0.4660\n"
     ]
    },
    {
     "name": "stdout",
     "output_type": "stream",
     "text": [
      "Epoch 28/100\n",
      "624/625 [============================>.] - ETA: 0s - loss: 1.8994 - accuracy: 0.4799\n",
      "Epoch 28: val_loss did not improve from 1.98033\n",
      "625/625 [==============================] - 15s 24ms/step - loss: 1.8991 - accuracy: 0.4799 - val_loss: 1.9812 - val_accuracy: 0.4705\n",
      "Epoch 29/100\n",
      "625/625 [==============================] - ETA: 0s - loss: 1.8677 - accuracy: 0.4864\n",
      "Epoch 29: val_loss improved from 1.98033 to 1.95246, saving model to best_model.h5\n",
      "625/625 [==============================] - 15s 24ms/step - loss: 1.8677 - accuracy: 0.4864 - val_loss: 1.9525 - val_accuracy: 0.4766\n",
      "Epoch 30/100\n",
      "624/625 [============================>.] - ETA: 0s - loss: 1.8321 - accuracy: 0.4962\n",
      "Epoch 30: val_loss improved from 1.95246 to 1.94819, saving model to best_model.h5\n",
      "625/625 [==============================] - 15s 23ms/step - loss: 1.8318 - accuracy: 0.4962 - val_loss: 1.9482 - val_accuracy: 0.4785\n",
      "Epoch 31/100\n",
      "624/625 [============================>.] - ETA: 0s - loss: 1.7919 - accuracy: 0.5085\n",
      "Epoch 31: val_loss improved from 1.94819 to 1.92321, saving model to best_model.h5\n",
      "625/625 [==============================] - 15s 24ms/step - loss: 1.7918 - accuracy: 0.5086 - val_loss: 1.9232 - val_accuracy: 0.4823\n",
      "Epoch 32/100\n",
      "623/625 [============================>.] - ETA: 0s - loss: 1.7621 - accuracy: 0.5148\n",
      "Epoch 32: val_loss improved from 1.92321 to 1.89336, saving model to best_model.h5\n",
      "625/625 [==============================] - 15s 24ms/step - loss: 1.7621 - accuracy: 0.5149 - val_loss: 1.8934 - val_accuracy: 0.4887\n",
      "Epoch 33/100\n",
      "625/625 [==============================] - ETA: 0s - loss: 1.7217 - accuracy: 0.5240\n",
      "Epoch 33: val_loss did not improve from 1.89336\n",
      "625/625 [==============================] - 14s 23ms/step - loss: 1.7217 - accuracy: 0.5240 - val_loss: 1.8980 - val_accuracy: 0.4980\n",
      "Epoch 34/100\n",
      "625/625 [==============================] - ETA: 0s - loss: 1.6842 - accuracy: 0.5323\n",
      "Epoch 34: val_loss improved from 1.89336 to 1.86908, saving model to best_model.h5\n",
      "625/625 [==============================] - 15s 24ms/step - loss: 1.6842 - accuracy: 0.5323 - val_loss: 1.8691 - val_accuracy: 0.4957\n",
      "Epoch 35/100\n",
      "624/625 [============================>.] - ETA: 0s - loss: 1.6493 - accuracy: 0.5439\n",
      "Epoch 35: val_loss improved from 1.86908 to 1.84084, saving model to best_model.h5\n",
      "625/625 [==============================] - 15s 23ms/step - loss: 1.6493 - accuracy: 0.5440 - val_loss: 1.8408 - val_accuracy: 0.5031\n",
      "Epoch 36/100\n",
      "625/625 [==============================] - ETA: 0s - loss: 1.6304 - accuracy: 0.5463\n",
      "Epoch 36: val_loss did not improve from 1.84084\n",
      "625/625 [==============================] - 14s 23ms/step - loss: 1.6304 - accuracy: 0.5463 - val_loss: 1.8548 - val_accuracy: 0.5034\n",
      "Epoch 37/100\n",
      "625/625 [==============================] - ETA: 0s - loss: 1.5919 - accuracy: 0.5535\n",
      "Epoch 37: val_loss improved from 1.84084 to 1.84010, saving model to best_model.h5\n",
      "625/625 [==============================] - 15s 24ms/step - loss: 1.5919 - accuracy: 0.5535 - val_loss: 1.8401 - val_accuracy: 0.5081\n",
      "Epoch 38/100\n",
      "623/625 [============================>.] - ETA: 0s - loss: 1.5610 - accuracy: 0.5601\n",
      "Epoch 38: val_loss did not improve from 1.84010\n",
      "625/625 [==============================] - 14s 23ms/step - loss: 1.5616 - accuracy: 0.5599 - val_loss: 1.8439 - val_accuracy: 0.5104\n",
      "Epoch 39/100\n",
      "625/625 [==============================] - ETA: 0s - loss: 1.5334 - accuracy: 0.5691\n",
      "Epoch 39: val_loss did not improve from 1.84010\n",
      "625/625 [==============================] - 14s 23ms/step - loss: 1.5334 - accuracy: 0.5691 - val_loss: 1.8559 - val_accuracy: 0.5072\n",
      "Epoch 40/100\n",
      "625/625 [==============================] - ETA: 0s - loss: 1.4960 - accuracy: 0.5787\n",
      "Epoch 40: val_loss improved from 1.84010 to 1.83575, saving model to best_model.h5\n",
      "625/625 [==============================] - 15s 24ms/step - loss: 1.4960 - accuracy: 0.5787 - val_loss: 1.8358 - val_accuracy: 0.5120\n",
      "Epoch 41/100\n",
      "625/625 [==============================] - ETA: 0s - loss: 1.4791 - accuracy: 0.5827\n",
      "Epoch 41: val_loss improved from 1.83575 to 1.80278, saving model to best_model.h5\n",
      "625/625 [==============================] - 15s 23ms/step - loss: 1.4791 - accuracy: 0.5827 - val_loss: 1.8028 - val_accuracy: 0.5181\n",
      "Epoch 42/100\n",
      "625/625 [==============================] - ETA: 0s - loss: 1.4487 - accuracy: 0.5893\n",
      "Epoch 42: val_loss improved from 1.80278 to 1.79725, saving model to best_model.h5\n",
      "625/625 [==============================] - 15s 23ms/step - loss: 1.4487 - accuracy: 0.5893 - val_loss: 1.7973 - val_accuracy: 0.5284\n",
      "Epoch 43/100\n",
      "624/625 [============================>.] - ETA: 0s - loss: 1.4205 - accuracy: 0.5961\n",
      "Epoch 43: val_loss improved from 1.79725 to 1.79649, saving model to best_model.h5\n",
      "625/625 [==============================] - 15s 24ms/step - loss: 1.4205 - accuracy: 0.5960 - val_loss: 1.7965 - val_accuracy: 0.5269\n",
      "Epoch 44/100\n",
      "624/625 [============================>.] - ETA: 0s - loss: 1.3869 - accuracy: 0.6051\n",
      "Epoch 44: val_loss improved from 1.79649 to 1.77335, saving model to best_model.h5\n",
      "625/625 [==============================] - 15s 23ms/step - loss: 1.3873 - accuracy: 0.6050 - val_loss: 1.7734 - val_accuracy: 0.5321\n",
      "Epoch 45/100\n",
      "625/625 [==============================] - ETA: 0s - loss: 1.3797 - accuracy: 0.6059\n",
      "Epoch 45: val_loss did not improve from 1.77335\n",
      "625/625 [==============================] - 14s 23ms/step - loss: 1.3797 - accuracy: 0.6059 - val_loss: 1.7758 - val_accuracy: 0.5229\n",
      "Epoch 46/100\n",
      "625/625 [==============================] - ETA: 0s - loss: 1.3495 - accuracy: 0.6138\n",
      "Epoch 46: val_loss improved from 1.77335 to 1.72777, saving model to best_model.h5\n",
      "625/625 [==============================] - 15s 24ms/step - loss: 1.3495 - accuracy: 0.6138 - val_loss: 1.7278 - val_accuracy: 0.5389\n",
      "Epoch 47/100\n",
      "625/625 [==============================] - ETA: 0s - loss: 1.3128 - accuracy: 0.6244\n",
      "Epoch 47: val_loss did not improve from 1.72777\n",
      "625/625 [==============================] - 15s 23ms/step - loss: 1.3128 - accuracy: 0.6244 - val_loss: 1.7648 - val_accuracy: 0.5356\n",
      "Epoch 48/100\n",
      "625/625 [==============================] - ETA: 0s - loss: 1.3034 - accuracy: 0.6230\n",
      "Epoch 48: val_loss did not improve from 1.72777\n",
      "625/625 [==============================] - 15s 23ms/step - loss: 1.3034 - accuracy: 0.6230 - val_loss: 1.7686 - val_accuracy: 0.5351\n",
      "Epoch 49/100\n",
      "625/625 [==============================] - ETA: 0s - loss: 1.2884 - accuracy: 0.6288\n",
      "Epoch 49: val_loss did not improve from 1.72777\n",
      "625/625 [==============================] - 15s 25ms/step - loss: 1.2884 - accuracy: 0.6288 - val_loss: 1.8018 - val_accuracy: 0.5366\n",
      "Epoch 50/100\n",
      "623/625 [============================>.] - ETA: 0s - loss: 1.2637 - accuracy: 0.6358\n",
      "Epoch 50: val_loss did not improve from 1.72777\n",
      "625/625 [==============================] - 15s 24ms/step - loss: 1.2639 - accuracy: 0.6359 - val_loss: 1.7727 - val_accuracy: 0.5427\n",
      "Epoch 51/100\n",
      "623/625 [============================>.] - ETA: 0s - loss: 1.2358 - accuracy: 0.6446\n",
      "Epoch 51: val_loss did not improve from 1.72777\n",
      "625/625 [==============================] - 15s 23ms/step - loss: 1.2365 - accuracy: 0.6444 - val_loss: 1.7387 - val_accuracy: 0.5495\n",
      "Epoch 52/100\n",
      "625/625 [==============================] - ETA: 0s - loss: 1.2053 - accuracy: 0.6512\n",
      "Epoch 52: val_loss did not improve from 1.72777\n",
      "625/625 [==============================] - 15s 25ms/step - loss: 1.2053 - accuracy: 0.6512 - val_loss: 1.7454 - val_accuracy: 0.5460\n",
      "Epoch 53/100\n",
      "624/625 [============================>.] - ETA: 0s - loss: 1.1920 - accuracy: 0.6572\n",
      "Epoch 53: val_loss improved from 1.72777 to 1.72638, saving model to best_model.h5\n",
      "625/625 [==============================] - 15s 24ms/step - loss: 1.1925 - accuracy: 0.6570 - val_loss: 1.7264 - val_accuracy: 0.5466\n",
      "Epoch 54/100\n",
      "623/625 [============================>.] - ETA: 0s - loss: 1.1669 - accuracy: 0.6597\n",
      "Epoch 54: val_loss did not improve from 1.72638\n",
      "625/625 [==============================] - 15s 23ms/step - loss: 1.1664 - accuracy: 0.6599 - val_loss: 1.7342 - val_accuracy: 0.5461\n",
      "Epoch 55/100\n",
      "623/625 [============================>.] - ETA: 0s - loss: 1.1420 - accuracy: 0.6673\n",
      "Epoch 55: val_loss did not improve from 1.72638\n",
      "625/625 [==============================] - 16s 25ms/step - loss: 1.1423 - accuracy: 0.6673 - val_loss: 1.7381 - val_accuracy: 0.5464\n"
     ]
    },
    {
     "name": "stdout",
     "output_type": "stream",
     "text": [
      "Epoch 56/100\n",
      "624/625 [============================>.] - ETA: 0s - loss: 1.1308 - accuracy: 0.6702\n",
      "Epoch 56: val_loss did not improve from 1.72638\n",
      "625/625 [==============================] - 16s 25ms/step - loss: 1.1305 - accuracy: 0.6703 - val_loss: 1.7694 - val_accuracy: 0.5498\n",
      "Epoch 57/100\n",
      "624/625 [============================>.] - ETA: 0s - loss: 1.0987 - accuracy: 0.6752\n",
      "Epoch 57: val_loss did not improve from 1.72638\n",
      "625/625 [==============================] - 15s 24ms/step - loss: 1.0988 - accuracy: 0.6752 - val_loss: 1.7562 - val_accuracy: 0.5549\n",
      "Epoch 58/100\n",
      "624/625 [============================>.] - ETA: 0s - loss: 1.0941 - accuracy: 0.6801\n",
      "Epoch 58: val_loss improved from 1.72638 to 1.72513, saving model to best_model.h5\n",
      "625/625 [==============================] - 16s 25ms/step - loss: 1.0943 - accuracy: 0.6801 - val_loss: 1.7251 - val_accuracy: 0.5606\n",
      "Epoch 59/100\n",
      "623/625 [============================>.] - ETA: 0s - loss: 1.0696 - accuracy: 0.6869\n",
      "Epoch 59: val_loss did not improve from 1.72513\n",
      "625/625 [==============================] - 15s 24ms/step - loss: 1.0696 - accuracy: 0.6869 - val_loss: 1.7321 - val_accuracy: 0.5604\n",
      "Epoch 60/100\n",
      "625/625 [==============================] - ETA: 0s - loss: 1.0517 - accuracy: 0.6906\n",
      "Epoch 60: val_loss did not improve from 1.72513\n",
      "625/625 [==============================] - 15s 24ms/step - loss: 1.0517 - accuracy: 0.6906 - val_loss: 1.7542 - val_accuracy: 0.5534\n",
      "Epoch 61/100\n",
      "625/625 [==============================] - ETA: 0s - loss: 1.0407 - accuracy: 0.6915\n",
      "Epoch 61: val_loss improved from 1.72513 to 1.72479, saving model to best_model.h5\n",
      "625/625 [==============================] - 16s 25ms/step - loss: 1.0407 - accuracy: 0.6915 - val_loss: 1.7248 - val_accuracy: 0.5623\n",
      "Epoch 62/100\n",
      "624/625 [============================>.] - ETA: 0s - loss: 1.0144 - accuracy: 0.6982\n",
      "Epoch 62: val_loss did not improve from 1.72479\n",
      "625/625 [==============================] - 15s 24ms/step - loss: 1.0148 - accuracy: 0.6981 - val_loss: 1.7791 - val_accuracy: 0.5518\n",
      "Epoch 63/100\n",
      "625/625 [==============================] - ETA: 0s - loss: 1.0082 - accuracy: 0.7036\n",
      "Epoch 63: val_loss did not improve from 1.72479\n",
      "625/625 [==============================] - 15s 23ms/step - loss: 1.0082 - accuracy: 0.7036 - val_loss: 1.7623 - val_accuracy: 0.5557\n",
      "Epoch 64/100\n",
      "625/625 [==============================] - ETA: 0s - loss: 0.9870 - accuracy: 0.7067\n",
      "Epoch 64: val_loss did not improve from 1.72479\n",
      "625/625 [==============================] - 15s 24ms/step - loss: 0.9870 - accuracy: 0.7067 - val_loss: 1.8079 - val_accuracy: 0.5492\n",
      "Epoch 65/100\n",
      "625/625 [==============================] - ETA: 0s - loss: 0.9805 - accuracy: 0.7106\n",
      "Epoch 65: val_loss did not improve from 1.72479\n",
      "625/625 [==============================] - 15s 24ms/step - loss: 0.9805 - accuracy: 0.7106 - val_loss: 1.7329 - val_accuracy: 0.5635\n",
      "Epoch 66/100\n",
      "625/625 [==============================] - ETA: 0s - loss: 0.9620 - accuracy: 0.7140\n",
      "Epoch 66: val_loss did not improve from 1.72479\n",
      "625/625 [==============================] - 15s 24ms/step - loss: 0.9620 - accuracy: 0.7140 - val_loss: 1.7413 - val_accuracy: 0.5603\n",
      "Epoch 67/100\n",
      "625/625 [==============================] - ETA: 0s - loss: 0.9444 - accuracy: 0.7184\n",
      "Epoch 67: val_loss did not improve from 1.72479\n",
      "625/625 [==============================] - 15s 24ms/step - loss: 0.9444 - accuracy: 0.7184 - val_loss: 1.7311 - val_accuracy: 0.5660\n",
      "Epoch 68/100\n",
      "624/625 [============================>.] - ETA: 0s - loss: 0.9333 - accuracy: 0.7216\n",
      "Epoch 68: val_loss did not improve from 1.72479\n",
      "625/625 [==============================] - 15s 23ms/step - loss: 0.9334 - accuracy: 0.7216 - val_loss: 1.7373 - val_accuracy: 0.5666\n",
      "Epoch 69/100\n",
      "625/625 [==============================] - ETA: 0s - loss: 0.9121 - accuracy: 0.7288\n",
      "Epoch 69: val_loss did not improve from 1.72479\n",
      "625/625 [==============================] - 15s 23ms/step - loss: 0.9121 - accuracy: 0.7288 - val_loss: 1.7757 - val_accuracy: 0.5603\n",
      "Epoch 70/100\n",
      "623/625 [============================>.] - ETA: 0s - loss: 0.9089 - accuracy: 0.7264\n",
      "Epoch 70: val_loss did not improve from 1.72479\n",
      "625/625 [==============================] - 15s 24ms/step - loss: 0.9089 - accuracy: 0.7264 - val_loss: 1.7607 - val_accuracy: 0.5636\n",
      "Epoch 71/100\n",
      "625/625 [==============================] - ETA: 0s - loss: 0.8847 - accuracy: 0.7347\n",
      "Epoch 71: val_loss did not improve from 1.72479\n",
      "625/625 [==============================] - 15s 24ms/step - loss: 0.8847 - accuracy: 0.7347 - val_loss: 1.7741 - val_accuracy: 0.5643\n",
      "Epoch 72/100\n",
      "625/625 [==============================] - ETA: 0s - loss: 0.8660 - accuracy: 0.7379\n",
      "Epoch 72: val_loss did not improve from 1.72479\n",
      "625/625 [==============================] - 15s 23ms/step - loss: 0.8660 - accuracy: 0.7379 - val_loss: 1.7941 - val_accuracy: 0.5677\n",
      "Epoch 73/100\n",
      "625/625 [==============================] - ETA: 0s - loss: 0.8567 - accuracy: 0.7426\n",
      "Epoch 73: val_loss did not improve from 1.72479\n",
      "625/625 [==============================] - 15s 24ms/step - loss: 0.8567 - accuracy: 0.7426 - val_loss: 1.7917 - val_accuracy: 0.5659\n",
      "Epoch 74/100\n",
      "625/625 [==============================] - ETA: 0s - loss: 0.8485 - accuracy: 0.7460\n",
      "Epoch 74: val_loss did not improve from 1.72479\n",
      "625/625 [==============================] - 15s 24ms/step - loss: 0.8485 - accuracy: 0.7460 - val_loss: 1.7870 - val_accuracy: 0.5650\n",
      "Epoch 75/100\n",
      "625/625 [==============================] - ETA: 0s - loss: 0.8431 - accuracy: 0.7446\n",
      "Epoch 75: val_loss did not improve from 1.72479\n",
      "625/625 [==============================] - 15s 23ms/step - loss: 0.8431 - accuracy: 0.7446 - val_loss: 1.7891 - val_accuracy: 0.5645\n",
      "Epoch 76/100\n",
      "625/625 [==============================] - ETA: 0s - loss: 0.8281 - accuracy: 0.7520\n",
      "Epoch 76: val_loss did not improve from 1.72479\n",
      "625/625 [==============================] - 15s 24ms/step - loss: 0.8281 - accuracy: 0.7520 - val_loss: 1.7421 - val_accuracy: 0.5720\n",
      "Epoch 76: early stopping\n"
     ]
    }
   ],
   "source": [
    "model_history = model.fit(train_data_gen,\n",
    "                          steps_per_epoch=40000//batch_size,\n",
    "                          validation_data=valid_data_gen,\n",
    "                          validation_steps=10000//batch_size,\n",
    "                          callbacks=[early_stop, model_checkpoint],\n",
    "                          verbose=1,\n",
    "                          epochs=epochs)"
   ]
  },
  {
   "cell_type": "code",
   "execution_count": 19,
   "metadata": {
    "id": "TKbU5wDwCfXa"
   },
   "outputs": [
    {
     "data": {
      "image/png": "[encoded data removed]",
      "text/plain": [
       "<Figure size 1800x800 with 2 Axes>"
      ]
     },
     "metadata": {},
     "output_type": "display_data"
    }
   ],
   "source": [
    "#plot to visualize the loss and accuracy against number of epochs\n",
    "plt.figure(figsize=(18,8))\n",
    "\n",
    "plt.suptitle('Loss and Accuracy Plots', fontsize=18)\n",
    "\n",
    "plt.subplot(1,2,1)\n",
    "plt.plot(model_history.history['loss'], label='Training Loss')\n",
    "plt.plot(model_history.history['val_loss'], label='Validation Loss')\n",
    "plt.legend()\n",
    "plt.xlabel('Number of epochs', fontsize=15)\n",
    "plt.ylabel('Loss', fontsize=15)\n",
    "\n",
    "plt.subplot(1,2,2)\n",
    "plt.plot(model_history.history['accuracy'], label='Train Accuracy')\n",
    "plt.plot(model_history.history['val_accuracy'], label='Validation Accuracy')\n",
    "plt.legend()\n",
    "plt.xlabel('Number of epochs', fontsize=14)\n",
    "plt.ylabel('Accuracy', fontsize=14)\n",
    "plt.show()"
   ]
  },
  {
   "cell_type": "code",
   "execution_count": 20,
   "metadata": {
    "id": "Rvyr5IjOClAU",
    "scrolled": false
   },
   "outputs": [
    {
     "name": "stderr",
     "output_type": "stream",
     "text": [
      "C:\\Users\\Dwaipayan Nandi\\AppData\\Local\\Temp\\ipykernel_12284\\2992606394.py:2: UserWarning: `Model.evaluate_generator` is deprecated and will be removed in a future version. Please use `Model.evaluate`, which supports generators.\n",
      "  valid_loss, valid_accuracy = model.evaluate_generator(generator=valid_data_gen, steps=10000//batch_size)\n",
      "C:\\Users\\Dwaipayan Nandi\\AppData\\Local\\Temp\\ipykernel_12284\\2992606394.py:3: UserWarning: `Model.evaluate_generator` is deprecated and will be removed in a future version. Please use `Model.evaluate`, which supports generators.\n",
      "  test_loss, test_accuracy = model.evaluate_generator(data_gen.flow(X_test, y_test, seed=123), steps=len(X_test)//batch_size)\n"
     ]
    },
    {
     "name": "stdout",
     "output_type": "stream",
     "text": [
      "Validation Accuracy:  56.78 %\n",
      "Test Accuracy:  57.57 %\n",
      " \n",
      "Validation Loss:  1.75\n",
      "Test Loss:  1.73\n"
     ]
    }
   ],
   "source": [
    "#train_loss, train_accuracy = model.evaluate_generator(generator=train_data_gen, steps=40000//batch_size)\n",
    "valid_loss, valid_accuracy = model.evaluate_generator(generator=valid_data_gen, steps=10000//batch_size)\n",
    "test_loss, test_accuracy = model.evaluate_generator(data_gen.flow(X_test, y_test, seed=123), steps=len(X_test)//batch_size)\n",
    "\n",
    "print('Validation Accuracy: ', round((valid_accuracy * 100), 2), \"%\")\n",
    "print('Test Accuracy: ', round((test_accuracy * 100), 2), \"%\")\n",
    "print(\" \")\n",
    "print('Validation Loss: ', round(valid_loss, 2))\n",
    "print('Test Loss: ', round(test_loss, 2))"
   ]
  },
  {
   "cell_type": "code",
   "execution_count": null,
   "metadata": {},
   "outputs": [],
   "source": [
    "#PREDICTING IMAGES"
   ]
  },
  {
   "cell_type": "code",
   "execution_count": 8,
   "metadata": {},
   "outputs": [],
   "source": [
    "import random"
   ]
  },
  {
   "cell_type": "code",
   "execution_count": 9,
   "metadata": {},
   "outputs": [],
   "source": [
    "def unpicklea(file):\n",
    "    import pickle\n",
    "    with open(file, 'rb') as fo:\n",
    "        dict = pickle.load(fo, encoding='bytes')\n",
    "    return dict"
   ]
  },
  {
   "cell_type": "code",
   "execution_count": 10,
   "metadata": {},
   "outputs": [],
   "source": [
    "metadata_path = r'C:\\Users\\Dwaipayan Nandi\\OneDrive\\Desktop\\projects\\CIPHAR-100\\Dataset\\meta' # change this path`\\\n",
    "metadata = unpicklea(metadata_path)\n",
    "superclass_dict = dict(list(enumerate(metadata[b'fine_label_names'])))"
   ]
  },
  {
   "cell_type": "code",
   "execution_count": 11,
   "metadata": {},
   "outputs": [],
   "source": [
    "file = r'C:\\Users\\Dwaipayan Nandi\\OneDrive\\Desktop\\projects\\CIPHAR-100\\Dataset\\test'"
   ]
  },
  {
   "cell_type": "code",
   "execution_count": 12,
   "metadata": {},
   "outputs": [],
   "source": [
    "dataset = unpicklea(file)"
   ]
  },
  {
   "cell_type": "code",
   "execution_count": 13,
   "metadata": {},
   "outputs": [
    {
     "data": {
      "text/plain": [
       "dict_keys([b'filenames', b'batch_label', b'fine_labels', b'coarse_labels', b'data'])"
      ]
     },
     "execution_count": 13,
     "metadata": {},
     "output_type": "execute_result"
    }
   ],
   "source": [
    "dataset.keys()"
   ]
  },
  {
   "cell_type": "code",
   "execution_count": 14,
   "metadata": {},
   "outputs": [
    {
     "ename": "KeyError",
     "evalue": "'fine_labels'",
     "output_type": "error",
     "traceback": [
      "\u001b[1;31m---------------------------------------------------------------------------\u001b[0m",
      "\u001b[1;31mKeyError\u001b[0m                                  Traceback (most recent call last)",
      "Cell \u001b[1;32mIn[14], line 1\u001b[0m\n\u001b[1;32m----> 1\u001b[0m \u001b[43mdataset\u001b[49m\u001b[43m[\u001b[49m\u001b[38;5;124;43m'\u001b[39;49m\u001b[38;5;124;43mfine_labels\u001b[39;49m\u001b[38;5;124;43m'\u001b[39;49m\u001b[43m]\u001b[49m[\u001b[38;5;241m30\u001b[39m]\n",
      "\u001b[1;31mKeyError\u001b[0m: 'fine_labels'"
     ]
    }
   ],
   "source": [
    "dataset['fine_labels'][30]"
   ]
  },
  {
   "cell_type": "code",
   "execution_count": 1,
   "metadata": {
    "id": "mAA2ErQDFLXv"
   },
   "outputs": [
    {
     "ename": "NameError",
     "evalue": "name 'random' is not defined",
     "output_type": "error",
     "traceback": [
      "\u001b[1;31m---------------------------------------------------------------------------\u001b[0m",
      "\u001b[1;31mNameError\u001b[0m                                 Traceback (most recent call last)",
      "Cell \u001b[1;32mIn[1], line 1\u001b[0m\n\u001b[1;32m----> 1\u001b[0m img_index \u001b[38;5;241m=\u001b[39m \u001b[43mrandom\u001b[49m\u001b[38;5;241m.\u001b[39mrandint(\u001b[38;5;241m0\u001b[39m, \u001b[38;5;241m9999\u001b[39m)\n\u001b[0;32m      2\u001b[0m img_index\u001b[38;5;241m=\u001b[39m\u001b[38;5;241m220\u001b[39m\n\u001b[0;32m      3\u001b[0m sample_image \u001b[38;5;241m=\u001b[39m X_test[img_index]\u001b[38;5;241m.\u001b[39mreshape(\u001b[38;5;241m1\u001b[39m,\u001b[38;5;241m32\u001b[39m,\u001b[38;5;241m32\u001b[39m,\u001b[38;5;241m3\u001b[39m)\n",
      "\u001b[1;31mNameError\u001b[0m: name 'random' is not defined"
     ]
    }
   ],
   "source": [
    "img_index = random.randint(0, 9999)\n",
    "img_index=220\n",
    "sample_image = X_test[img_index].reshape(1,32,32,3)\n",
    "prediction = model.predict(sample_image)\n",
    "predicted_label = np.argmax(prediction)\n",
    "plt.imshow(X_test[img_index])\n",
    "print(img_index)\n",
    "print('Predicted :'+ subcat[predicted_label])\n",
    "print('Actual :' + str(superclass_dict[dataset['fine_labels'][img_index]]))\n",
    "plt.show()"
   ]
  },
  {
   "cell_type": "code",
   "execution_count": null,
   "metadata": {},
   "outputs": [],
   "source": []
  }
 ],
 "metadata": {
  "accelerator": "GPU",
  "colab": {
   "authorship_tag": "ABX9TyO0FIetqxPZxOlLEkmP4Ndu",
   "provenance": []
  },
  "kernelspec": {
   "display_name": "tensorgpu",
   "language": "python",
   "name": "tensorgpu"
  },
  "language_info": {
   "codemirror_mode": {
    "name": "ipython",
    "version": 3
   },
   "file_extension": ".py",
   "mimetype": "text/x-python",
   "name": "python",
   "nbconvert_exporter": "python",
   "pygments_lexer": "ipython3",
   "version": "3.10.13"
  }
 },
 "nbformat": 4,
 "nbformat_minor": 1
}
